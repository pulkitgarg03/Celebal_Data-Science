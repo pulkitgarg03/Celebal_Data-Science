{
  "nbformat": 4,
  "nbformat_minor": 0,
  "metadata": {
    "colab": {
      "provenance": []
    },
    "kernelspec": {
      "name": "python3",
      "display_name": "Python 3"
    },
    "language_info": {
      "name": "python"
    }
  },
  "cells": [
    {
      "cell_type": "code",
      "source": [
        "import pandas as pd\n",
        "from sklearn.impute import SimpleImputer\n",
        "from sklearn.preprocessing import MinMaxScaler, OneHotEncoder\n",
        "\n",
        "# Load the datasets\n",
        "train_data = pd.read_csv('train.csv')\n",
        "test_data = pd.read_csv('test.csv')\n",
        "\n",
        "# Handle missing values\n",
        "# Impute missing values in 'Age' with the median\n",
        "age_imputer = SimpleImputer(strategy='median')\n",
        "train_data['Age'] = age_imputer.fit_transform(train_data[['Age']])\n",
        "test_data['Age'] = age_imputer.transform(test_data[['Age']])\n",
        "\n",
        "# Impute missing values in 'Fare' with the median\n",
        "fare_imputer = SimpleImputer(strategy='median')\n",
        "train_data['Fare'] = fare_imputer.fit_transform(train_data[['Fare']])\n",
        "test_data['Fare'] = fare_imputer.transform(test_data[['Fare']])\n",
        "\n",
        "# Impute missing values in 'Embarked' with the most frequent value\n",
        "embarked_imputer = SimpleImputer(strategy='most_frequent')\n",
        "# Reshape the imputed values to a 1D array\n",
        "train_data['Embarked'] = embarked_imputer.fit_transform(train_data[['Embarked']]).ravel()\n",
        "test_data['Embarked'] = embarked_imputer.transform(test_data[['Embarked']]).ravel()\n",
        "\n",
        "# Handle missing values in 'Cabin' (drop the column as it has too many missing values)\n",
        "train_data = train_data.drop(columns=['Cabin'])\n",
        "test_data = test_data.drop(columns=['Cabin'])\n",
        "\n",
        "# Drop irrelevant columns\n",
        "train_data = train_data.drop(columns=['Name', 'Ticket'])\n",
        "test_data = test_data.drop(columns=['Name', 'Ticket'])\n",
        "\n",
        "# Convert categorical columns into numerical format using one-hot encoding\n",
        "encoder = OneHotEncoder(sparse=False, drop='first')\n",
        "encoded_train_sex_embarked = encoder.fit_transform(train_data[['Sex', 'Embarked']])\n",
        "encoded_test_sex_embarked = encoder.transform(test_data[['Sex', 'Embarked']])\n",
        "\n",
        "# Create DataFrame from encoded features and concatenate with the original data\n",
        "encoded_columns = encoder.get_feature_names_out(['Sex', 'Embarked'])\n",
        "encoded_train_df = pd.DataFrame(encoded_train_sex_embarked, columns=encoded_columns, index=train_data.index)\n",
        "encoded_test_df = pd.DataFrame(encoded_test_sex_embarked, columns=encoded_columns, index=test_data.index)\n",
        "\n",
        "train_data = pd.concat([train_data, encoded_train_df], axis=1)\n",
        "test_data = pd.concat([test_data, encoded_test_df], axis=1)\n",
        "\n",
        "# Drop the original categorical columns\n",
        "train_data = train_data.drop(columns=['Sex', 'Embarked'])\n",
        "test_data = test_data.drop(columns=['Sex', 'Embarked'])\n",
        "\n",
        "# Normalize numerical columns\n",
        "scaler = MinMaxScaler()\n",
        "train_data[['Age', 'Fare']] = scaler.fit_transform(train_data[['Age', 'Fare']])\n",
        "test_data[['Age', 'Fare']] = scaler.transform(test_data[['Age', 'Fare']])\n",
        "\n",
        "# Feature Engineering: Create new feature 'FamilySize'\n",
        "train_data['FamilySize'] = train_data['SibSp'] + train_data['Parch'] + 1\n",
        "test_data['FamilySize'] = test_data['SibSp'] + test_data['Parch'] + 1\n",
        "\n",
        "# Display the first few rows of the processed train and test datasets\n",
        "print(train_data.head())\n",
        "print(test_data.head())\n"
      ],
      "metadata": {
        "colab": {
          "base_uri": "https://localhost:8080/"
        },
        "id": "g2LROAfHYgfC",
        "outputId": "8aa0404d-2aae-4a2f-82a6-bbfc8ebe24e3"
      },
      "execution_count": 23,
      "outputs": [
        {
          "output_type": "stream",
          "name": "stdout",
          "text": [
            "   PassengerId  Survived  Pclass       Age  SibSp  Parch      Fare  Sex_male  \\\n",
            "0            1         0       3  0.271174      1      0  0.014151       1.0   \n",
            "1            2         1       1  0.472229      1      0  0.139136       0.0   \n",
            "2            3         1       3  0.321438      0      0  0.015469       0.0   \n",
            "3            4         1       1  0.434531      1      0  0.103644       0.0   \n",
            "4            5         0       3  0.434531      0      0  0.015713       1.0   \n",
            "\n",
            "   Embarked_Q  Embarked_S  FamilySize  \n",
            "0         0.0         1.0           2  \n",
            "1         0.0         0.0           2  \n",
            "2         0.0         1.0           1  \n",
            "3         0.0         1.0           2  \n",
            "4         0.0         1.0           1  \n",
            "   PassengerId  Pclass       Age  SibSp  Parch      Fare  Sex_male  \\\n",
            "0          892       3  0.428248      0      0  0.015282       1.0   \n",
            "1          893       3  0.585323      1      0  0.013663       0.0   \n",
            "2          894       2  0.773813      0      0  0.018909       1.0   \n",
            "3          895       3  0.334004      0      0  0.016908       1.0   \n",
            "4          896       3  0.271174      1      1  0.023984       0.0   \n",
            "\n",
            "   Embarked_Q  Embarked_S  FamilySize  \n",
            "0         1.0         0.0           1  \n",
            "1         0.0         1.0           2  \n",
            "2         1.0         0.0           1  \n",
            "3         0.0         1.0           1  \n",
            "4         0.0         1.0           3  \n"
          ]
        },
        {
          "output_type": "stream",
          "name": "stderr",
          "text": [
            "/usr/local/lib/python3.10/dist-packages/sklearn/preprocessing/_encoders.py:868: FutureWarning: `sparse` was renamed to `sparse_output` in version 1.2 and will be removed in 1.4. `sparse_output` is ignored unless you leave `sparse` to its default value.\n",
            "  warnings.warn(\n"
          ]
        }
      ]
    }
  ]
}